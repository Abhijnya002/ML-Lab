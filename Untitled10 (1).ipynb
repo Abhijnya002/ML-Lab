{
  "nbformat": 4,
  "nbformat_minor": 0,
  "metadata": {
    "colab": {
      "name": "Untitled10.ipynb",
      "provenance": []
    },
    "kernelspec": {
      "name": "python3",
      "display_name": "Python 3"
    },
    "language_info": {
      "name": "python"
    }
  },
  "cells": [
    {
      "cell_type": "code",
      "metadata": {
        "colab": {
          "base_uri": "https://localhost:8080/"
        },
        "id": "01g2I2teyC8Y",
        "outputId": "5f263f23-9aab-4689-ced2-8e9c844f0436"
      },
      "source": [
        "import numpy as np\n",
        "import pandas as pd\n",
        "\n",
        "def general(n):\n",
        "    return (\"?\",)*n\n",
        "\n",
        "def specific(n):\n",
        "    return ('0',)*n\n",
        "\n",
        "def more_general(h1, h2):\n",
        "    more_general_parts = []\n",
        "    for x, y in zip(h1, h2):\n",
        "        mg = x == \"?\" or (x != \"0\" and (x == y or y == \"0\"))\n",
        "        more_general_parts.append(mg)\n",
        "    return all(more_general_parts)\n",
        "\n",
        "#read csv\n",
        "data = pd.DataFrame(data=pd.read_csv(\"mamal.csv\"))\n",
        "concepts = np.array(data.iloc[:,0:-1])\n",
        "print(concepts)\n",
        "target = np.array(data.iloc[:,-1])\n",
        "print(\"Type of mammal=\",target)\n",
        "\n"
      ],
      "execution_count": 52,
      "outputs": [
        {
          "output_type": "stream",
          "text": [
            "[['yes' 'yes' 'yes' 'yes' 'yes']\n",
            " ['yes' 'yes' 'yes' 'no' 'no']\n",
            " ['no' 'yes' 'no' 'yes' 'yes']\n",
            " ['no' 'yes' 'yes' 'yes' 'yes']\n",
            " ['yes' 'no' 'yes' 'no' 'yes']\n",
            " ['yes' 'yes' 'yes' 'yes' 'no']]\n",
            "Type of mammal= ['yes' 'yes' 'no' 'no' 'no' 'yes']\n"
          ],
          "name": "stdout"
        }
      ]
    },
    {
      "cell_type": "code",
      "metadata": {
        "id": "mgp519E6-9rQ"
      },
      "source": [
        "def generalize_S(x, G, S):\n",
        "    S_prev = list(S)\n",
        "    for s in S_prev:\n",
        "        if s not in S:\n",
        "            continue\n",
        "        if not fulfills(x, s):\n",
        "            S.remove(s)\n",
        "            Splus = min_generalizations(s, x)\n",
        "            ## keep only generalizations that have a counterpart in G\n",
        "            S.update([h for h in Splus if any([more_general(g,h) \n",
        "                                               for g in G])])\n",
        "            ## remove hypotheses less specific than any other in S\n",
        "            S.difference_update([h for h in S if \n",
        "                                 any([more_general(h, h1) \n",
        "                                      for h1 in S if h != h1])])\n",
        "    return S\n",
        "\n",
        "def specialize_G(x, domains, G, S):\n",
        "    G_prev = list(G)\n",
        "    for g in G_prev:\n",
        "        if g not in G:\n",
        "            continue\n",
        "        if fulfills(x, g):\n",
        "            G.remove(g)\n",
        "            Gminus = min_specializations(g, domains, x)\n",
        "            ## keep only specializations that have a conuterpart in S\n",
        "            G.update([h for h in Gminus if any([more_general(h, s)\n",
        "                                                for s in S])])\n",
        "            ## remove hypotheses less general than any other in G\n",
        "            G.difference_update([h for h in G if \n",
        "                                 any([more_general(g1, h) \n",
        "                                      for g1 in G if h != g1])])\n",
        "    return G"
      ],
      "execution_count": 59,
      "outputs": []
    },
    {
      "cell_type": "code",
      "metadata": {
        "colab": {
          "base_uri": "https://localhost:8080/"
        },
        "id": "G-MqhEhC1zEw",
        "outputId": "7c567780-c461-4436-d3d2-b1fa283b9486"
      },
      "source": [
        "def candidate_elimination(concepts, target):\n",
        "  specific_h = concepts[0].copy()\n",
        "  print(\"\\nIntializing General and specific hypothesis:\")\n",
        "  print(\" Specific[{0}]:\",specific_h)\n",
        "  general_h = [[\"?\" for i in range(len(specific_h))] for i in range(len(specific_h))]\n",
        "  print(\" General[{0}]:\",general_h)\n",
        " \n",
        "  for i, h in enumerate(concepts):\n",
        "    if target[i] == \"yes\":\n",
        "      for x in range(len(specific_h)):\n",
        "        if h[x]!= specific_h[x]:\n",
        "          specific_h[x] ='?'\n",
        "          general_h[x][x] ='?'\n",
        "          print(specific_h)\n",
        "    print(specific_h)\n",
        "    print(\"\\n\")\n",
        "    if target[i] == \"no\":\n",
        "      for x in range(len(specific_h)):\n",
        "        if h[x]!= specific_h[x]:\n",
        "          general_h[x][x] = specific_h[x]\n",
        "        else:\n",
        "          general_h[x][x] = '?'\n",
        "    print(\"************************************\")\n",
        "    print(\"Steps of Candidate Elimination Algorithm\",i+1)\n",
        "    print(\"Specific:\",specific_h)\n",
        "    print(\"General:\",general_h)\n",
        "    \n",
        "  indices = [i for i, val in enumerate(general_h) if val == ['?', '?', '?', '?', '?']]    \n",
        "  for i in indices:   \n",
        "      general_h.remove(['?', '?', '?', '?', '?']) \n",
        "  return specific_h, general_h  \n",
        "\n",
        "s_final, g_final = candidate_elimination(concepts, target)\n",
        "print(\"************************************\")\n",
        "print(\"\\nFinal Specific_h:\", s_final )\n",
        "print(\"Final General_h:\", g_final)\n"
      ],
      "execution_count": 58,
      "outputs": [
        {
          "output_type": "stream",
          "text": [
            "\n",
            "Intializing General and specific hypothesis:\n",
            " Specific[{0}]: ['yes' 'yes' 'yes' 'yes' 'yes']\n",
            " General[{0}]: [['?', '?', '?', '?', '?'], ['?', '?', '?', '?', '?'], ['?', '?', '?', '?', '?'], ['?', '?', '?', '?', '?'], ['?', '?', '?', '?', '?']]\n",
            "['yes' 'yes' 'yes' 'yes' 'yes']\n",
            "\n",
            "\n",
            "************************************\n",
            "Steps of Candidate Elimination Algorithm 1\n",
            "Specific: ['yes' 'yes' 'yes' 'yes' 'yes']\n",
            "General: [['?', '?', '?', '?', '?'], ['?', '?', '?', '?', '?'], ['?', '?', '?', '?', '?'], ['?', '?', '?', '?', '?'], ['?', '?', '?', '?', '?']]\n",
            "['yes' 'yes' 'yes' '?' 'yes']\n",
            "['yes' 'yes' 'yes' '?' '?']\n",
            "['yes' 'yes' 'yes' '?' '?']\n",
            "\n",
            "\n",
            "************************************\n",
            "Steps of Candidate Elimination Algorithm 2\n",
            "Specific: ['yes' 'yes' 'yes' '?' '?']\n",
            "General: [['?', '?', '?', '?', '?'], ['?', '?', '?', '?', '?'], ['?', '?', '?', '?', '?'], ['?', '?', '?', '?', '?'], ['?', '?', '?', '?', '?']]\n",
            "['yes' 'yes' 'yes' '?' '?']\n",
            "\n",
            "\n",
            "************************************\n",
            "Steps of Candidate Elimination Algorithm 3\n",
            "Specific: ['yes' 'yes' 'yes' '?' '?']\n",
            "General: [['yes', '?', '?', '?', '?'], ['?', '?', '?', '?', '?'], ['?', '?', 'yes', '?', '?'], ['?', '?', '?', '?', '?'], ['?', '?', '?', '?', '?']]\n",
            "['yes' 'yes' 'yes' '?' '?']\n",
            "\n",
            "\n",
            "************************************\n",
            "Steps of Candidate Elimination Algorithm 4\n",
            "Specific: ['yes' 'yes' 'yes' '?' '?']\n",
            "General: [['yes', '?', '?', '?', '?'], ['?', '?', '?', '?', '?'], ['?', '?', '?', '?', '?'], ['?', '?', '?', '?', '?'], ['?', '?', '?', '?', '?']]\n",
            "['yes' 'yes' 'yes' '?' '?']\n",
            "\n",
            "\n",
            "************************************\n",
            "Steps of Candidate Elimination Algorithm 5\n",
            "Specific: ['yes' 'yes' 'yes' '?' '?']\n",
            "General: [['?', '?', '?', '?', '?'], ['?', 'yes', '?', '?', '?'], ['?', '?', '?', '?', '?'], ['?', '?', '?', '?', '?'], ['?', '?', '?', '?', '?']]\n",
            "['yes' 'yes' 'yes' '?' '?']\n",
            "['yes' 'yes' 'yes' '?' '?']\n",
            "['yes' 'yes' 'yes' '?' '?']\n",
            "\n",
            "\n",
            "************************************\n",
            "Steps of Candidate Elimination Algorithm 6\n",
            "Specific: ['yes' 'yes' 'yes' '?' '?']\n",
            "General: [['?', '?', '?', '?', '?'], ['?', 'yes', '?', '?', '?'], ['?', '?', '?', '?', '?'], ['?', '?', '?', '?', '?'], ['?', '?', '?', '?', '?']]\n",
            "************************************\n",
            "\n",
            "Final Specific_h: ['yes' 'yes' 'yes' '?' '?']\n",
            "Final General_h: [['?', 'yes', '?', '?', '?']]\n"
          ],
          "name": "stdout"
        }
      ]
    },
    {
      "cell_type": "code",
      "metadata": {
        "id": "Oe3xuxNg-7Wh"
      },
      "source": [
        ""
      ],
      "execution_count": null,
      "outputs": []
    }
  ]
}